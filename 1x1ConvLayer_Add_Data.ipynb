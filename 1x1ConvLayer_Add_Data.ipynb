{
 "cells": [
  {
   "cell_type": "markdown",
   "metadata": {},
   "source": [
    "# Self-Driving Car Engineer Nanodegree\n",
    "\n",
    "## Deep Learning\n",
    "\n",
    "## Project: Build a Traffic Sign Recognition Classifier\n",
    "\n",
    "In this notebook, a template is provided for you to implement your functionality in stages, which is required to successfully complete this project. If additional code is required that cannot be included in the notebook, be sure that the Python code is successfully imported and included in your submission if necessary. \n",
    "\n",
    "> **Note**: Once you have completed all of the code implementations, you need to finalize your work by exporting the iPython Notebook as an HTML document. Before exporting the notebook to html, all of the code cells need to have been run so that reviewers can see the final implementation and output. You can then export the notebook by using the menu above and navigating to  \\n\",\n",
    "    \"**File -> Download as -> HTML (.html)**. Include the finished document along with this notebook as your submission. \n",
    "\n",
    "In addition to implementing code, there is a writeup to complete. The writeup should be completed in a separate file, which can be either a markdown file or a pdf document. There is a [write up template](https://github.com/udacity/CarND-Traffic-Sign-Classifier-Project/blob/master/writeup_template.md) that can be used to guide the writing process. Completing the code template and writeup template will cover all of the [rubric points](https://review.udacity.com/#!/rubrics/481/view) for this project.\n",
    "\n",
    "The [rubric](https://review.udacity.com/#!/rubrics/481/view) contains \"Stand Out Suggestions\" for enhancing the project beyond the minimum requirements. The stand out suggestions are optional. If you decide to pursue the \"stand out suggestions\", you can include the code in this Ipython notebook and also discuss the results in the writeup file.\n",
    "\n",
    "\n",
    ">**Note:** Code and Markdown cells can be executed using the **Shift + Enter** keyboard shortcut. In addition, Markdown cells can be edited by typically double-clicking the cell to enter edit mode."
   ]
  },
  {
   "cell_type": "markdown",
   "metadata": {},
   "source": [
    "---\n",
    "## Step 0: Load The Data"
   ]
  },
  {
   "cell_type": "code",
   "execution_count": null,
   "metadata": {},
   "outputs": [],
   "source": []
  },
  {
   "cell_type": "code",
   "execution_count": 1,
   "metadata": {},
   "outputs": [],
   "source": [
    "# Load pickled data\n",
    "import pickle\n",
    "\n",
    "# TODO: Fill this in based on where you saved the training and testing data\n",
    "\n",
    "training_file = \"traffic_signs_data/train.p\"\n",
    "validation_file= \"traffic_signs_data/valid.p\"\n",
    "testing_file = \"traffic_signs_data/test.p\"\n",
    "\n",
    "with open(training_file, mode='rb') as f:\n",
    "    train = pickle.load(f)\n",
    "with open(validation_file, mode='rb') as f:\n",
    "    valid = pickle.load(f)\n",
    "with open(testing_file, mode='rb') as f:\n",
    "    test = pickle.load(f)\n",
    "    \n",
    "X_train, y_train = train['features'], train['labels']\n",
    "X_valid, y_valid = valid['features'], valid['labels']\n",
    "X_test, y_test = test['features'], test['labels']"
   ]
  },
  {
   "cell_type": "markdown",
   "metadata": {},
   "source": [
    "---\n",
    "## Step 1: Dataset Summary & Exploration\n",
    "The pickled data is a dictionary with 4 key/value pairs:\n",
    "-'features' is a 4D array containing raw pixel data of the traffic sign images, (num examples, width, height, channels).\n",
    "\n",
    "-'labels' is a 1D array containing the label/class id of the traffic sign. The file signnames.csv contains id -> name mappings for each id.\n",
    "\n",
    "-'sizes' is a list containing tuples, (width, height) representing the original width and height the image.\n",
    "\n",
    "-'coords' is a list containing tuples, (x1, y1, x2, y2) representing coordinates of a bounding box around the sign in the image. THESE COORDINATES ASSUME THE ORIGINAL IMAGE. THE PICKLED DATA CONTAINS RESIZED VERSIONS (32 by 32) OF THESE IMAGES\n",
    "\n",
    "Complete the basic data summary below. Use python, numpy and/or pandas methods to calculate the data summary rather than hard coding the results. For example, the pandas shape method might be useful for calculating some of the summary results."
   ]
  },
  {
   "cell_type": "markdown",
   "metadata": {},
   "source": [
    "### Provide a Basic Summary of the Data Set Using Python, Numpy and/or Pandas"
   ]
  },
  {
   "cell_type": "code",
   "execution_count": 2,
   "metadata": {},
   "outputs": [
    {
     "name": "stdout",
     "output_type": "stream",
     "text": [
      "Number of training samples = 34799\n",
      "Number of training labels = 34799\n",
      "Number of testing samples = 12630\n",
      "Image data shape = 29 29\n",
      "Number of classes = 43\n"
     ]
    }
   ],
   "source": [
    "### Replace each question mark with the appropriate value. \n",
    "### Use python, pandas or numpy methods rather than hard coding the results\n",
    "import pandas as pd\n",
    "\n",
    "# TODO: Number of training examples\n",
    "n_train = X_train.shape[0]\n",
    "\n",
    "# TODO: Number of training lables\n",
    "n_y_train = y_train.shape[0]\n",
    "\n",
    "# TODO: Number of validation examples\n",
    "n_validation = X_valid.shape[0]\n",
    "\n",
    "# TODO: Number of testing examples.\n",
    "n_test = X_test.shape[0]\n",
    "\n",
    "# TODO: What's the shape of an traffic sign image?\n",
    "image_shape = train['sizes'][4]\n",
    "\n",
    "# TODO: How many unique classes/labels there are in the dataset.\n",
    "n_classes = len(list(set(y_train)))\n",
    "\n",
    "print(\"Number of training samples =\", n_train)\n",
    "print(\"Number of training labels =\", n_train)\n",
    "print(\"Number of testing samples =\", n_test)\n",
    "print(\"Image data shape =\", image_shape[0],image_shape[1])\n",
    "print(\"Number of classes =\", n_classes)"
   ]
  },
  {
   "cell_type": "markdown",
   "metadata": {},
   "source": [
    "### Check if the data sets coherent"
   ]
  },
  {
   "cell_type": "code",
   "execution_count": 3,
   "metadata": {},
   "outputs": [
    {
     "name": "stdout",
     "output_type": "stream",
     "text": [
      "\n",
      "Image Shape: (32, 32, 3)\n",
      "\n",
      "Validation Set: 4410 samples\n"
     ]
    }
   ],
   "source": [
    "assert(len(X_train) == len(y_train))\n",
    "assert(len(X_valid) == len(y_valid))\n",
    "assert(len(X_test) == len(y_test))\n",
    "\n",
    "print()\n",
    "print(\"Image Shape: {}\".format(X_train[0].shape))\n",
    "print()\n",
    "print(\"Validation Set: {} samples\".format(len(X_valid)))"
   ]
  },
  {
   "cell_type": "markdown",
   "metadata": {},
   "source": [
    "### Include an exploratory visualization of the dataset"
   ]
  },
  {
   "cell_type": "markdown",
   "metadata": {},
   "source": [
    "Visualize the German Traffic Signs Dataset using the pickled file(s). This is open ended, suggestions include: plotting traffic sign images, plotting the count of each sign, etc. \n",
    "\n",
    "The [Matplotlib](http://matplotlib.org/) [examples](http://matplotlib.org/examples/index.html) and [gallery](http://matplotlib.org/gallery.html) pages are a great resource for doing visualizations in Python.\n",
    "\n",
    "**NOTE:** It's recommended you start with something simple first. If you wish to do more, come back to it after you've completed the rest of the sections. It can be interesting to look at the distribution of classes in the training, validation and test set. Is the distribution the same? Are there more examples of some classes than others?"
   ]
  },
  {
   "cell_type": "code",
   "execution_count": 4,
   "metadata": {},
   "outputs": [
    {
     "data": {
      "text/plain": [
       "Text(0.5, 1.0, 'Overview Dataset')"
      ]
     },
     "execution_count": 4,
     "metadata": {},
     "output_type": "execute_result"
    },
    {
     "data": {
      "image/png": "[encoded data removed]",
      "text/plain": [
       "<Figure size 1080x1080 with 1 Axes>"
      ]
     },
     "metadata": {
      "needs_background": "light"
     },
     "output_type": "display_data"
    }
   ],
   "source": [
    "# Read in the csv file\n",
    "import numpy as np\n",
    "import matplotlib.pyplot as plt\n",
    "\n",
    "signnames=pd.read_csv('signnames.csv')\n",
    "# y_train.groupby(['features']).size()\n",
    "y_train_df = pd.DataFrame(data=y_train, columns=['label']) \n",
    "amounts = y_train_df.groupby(['label']).size()\n",
    "\n",
    "\n",
    "# Plot Dataset\n",
    "fig, ax = plt.subplots(figsize=(15, 15))\n",
    "\n",
    "# Example data\n",
    "y_pos = np.arange(len(signnames))\n",
    "x_pos = len(y_train)\n",
    "\n",
    "ax.barh(y_pos, amounts)\n",
    "ax.set_yticks(y_pos)\n",
    "#ax.set_yticklabels(y_train)\n",
    "ax.invert_yaxis()  # labels read top-to-bottom\n",
    "ax.set_xlabel('Images')\n",
    "ax.set_title('Overview Dataset')"
   ]
  },
  {
   "cell_type": "code",
   "execution_count": 5,
   "metadata": {},
   "outputs": [],
   "source": [
    "### Data exploration visualization code goes here.\n",
    "### Feel free to use as many code cells as needed.\n",
    "# Visualizations will be shown in the notebook.\n",
    "\n",
    "#Slice the data for each class\n",
    "#y_train_df = pd.DataFrame(data=y_train, columns=['labels']) \n",
    "#amounts = y_train_df.groupby(['labels']).size()\n",
    "\n",
    "# Visualizations will be shown in the notebook.\n",
    "\n",
    "#fig, ax = plt.subplots(int(n_classes/5)+1,5,figsize=(15, 35))\n",
    "    \n",
    "#for k in range(n_classes):\n",
    "#    idx = np.argmax(y_train == k)\n",
    "#    ax[int(k/5),k%5].imshow(X_train[idx])\n",
    "#    ax[int(k/5),k%5].set_title(signnames.SignName[k]+':\\n' + str(amounts[k]))\n",
    "#    ax[int(k/5),k%5].axis('ON')  # clear x- and y-axes\n",
    "    \n",
    "#plt.savefig('./examples/dataset_visualisation.jpg', dpi=300)\n",
    "#plt.show()"
   ]
  },
  {
   "cell_type": "markdown",
   "metadata": {},
   "source": [
    "#### Add additional Data true rotation of the images\n",
    "In the visualization of the Dataset above, its seen that the data distribution is not well adjusted. The difference between the first two classes are round about factor 10x. For this the images get rotated about 25° and added to the dataset."
   ]
  },
  {
   "cell_type": "code",
   "execution_count": 32,
   "metadata": {},
   "outputs": [
    {
     "ename": "AttributeError",
     "evalue": "'numpy.ndarray' object has no attribute 'read'",
     "output_type": "error",
     "traceback": [
      "\u001b[0;31m---------------------------------------------------------------------------\u001b[0m",
      "\u001b[0;31mAttributeError\u001b[0m                            Traceback (most recent call last)",
      "\u001b[0;32m~/opt/miniconda3/envs/LeNet_TrafficSignsClassifyer/lib/python3.6/site-packages/PIL/Image.py\u001b[0m in \u001b[0;36mopen\u001b[0;34m(fp, mode)\u001b[0m\n\u001b[1;32m   2881\u001b[0m     \u001b[0;32mtry\u001b[0m\u001b[0;34m:\u001b[0m\u001b[0;34m\u001b[0m\u001b[0;34m\u001b[0m\u001b[0m\n\u001b[0;32m-> 2882\u001b[0;31m         \u001b[0mfp\u001b[0m\u001b[0;34m.\u001b[0m\u001b[0mseek\u001b[0m\u001b[0;34m(\u001b[0m\u001b[0;36m0\u001b[0m\u001b[0;34m)\u001b[0m\u001b[0;34m\u001b[0m\u001b[0;34m\u001b[0m\u001b[0m\n\u001b[0m\u001b[1;32m   2883\u001b[0m     \u001b[0;32mexcept\u001b[0m \u001b[0;34m(\u001b[0m\u001b[0mAttributeError\u001b[0m\u001b[0;34m,\u001b[0m \u001b[0mio\u001b[0m\u001b[0;34m.\u001b[0m\u001b[0mUnsupportedOperation\u001b[0m\u001b[0;34m)\u001b[0m\u001b[0;34m:\u001b[0m\u001b[0;34m\u001b[0m\u001b[0;34m\u001b[0m\u001b[0m\n",
      "\u001b[0;31mAttributeError\u001b[0m: 'numpy.ndarray' object has no attribute 'seek'",
      "\nDuring handling of the above exception, another exception occurred:\n",
      "\u001b[0;31mAttributeError\u001b[0m                            Traceback (most recent call last)",
      "\u001b[0;32m<ipython-input-32-b0dc731a0c65>\u001b[0m in \u001b[0;36m<module>\u001b[0;34m\u001b[0m\n\u001b[1;32m      2\u001b[0m \u001b[0;34m\u001b[0m\u001b[0m\n\u001b[1;32m      3\u001b[0m \u001b[0;31m# Rotate eaxample image\u001b[0m\u001b[0;34m\u001b[0m\u001b[0;34m\u001b[0m\u001b[0;34m\u001b[0m\u001b[0m\n\u001b[0;32m----> 4\u001b[0;31m \u001b[0mimg\u001b[0m     \u001b[0;34m=\u001b[0m \u001b[0mImage\u001b[0m\u001b[0;34m.\u001b[0m\u001b[0mopen\u001b[0m\u001b[0;34m(\u001b[0m\u001b[0mX_train\u001b[0m\u001b[0;34m[\u001b[0m\u001b[0;36m1\u001b[0m\u001b[0;34m]\u001b[0m\u001b[0;34m)\u001b[0m\u001b[0;34m\u001b[0m\u001b[0;34m\u001b[0m\u001b[0m\n\u001b[0m\u001b[1;32m      5\u001b[0m \u001b[0mimg_rot\u001b[0m \u001b[0;34m=\u001b[0m \u001b[0mimg\u001b[0m\u001b[0;34m.\u001b[0m\u001b[0mrotate\u001b[0m\u001b[0;34m(\u001b[0m\u001b[0;36m25\u001b[0m\u001b[0;34m)\u001b[0m\u001b[0;34m\u001b[0m\u001b[0;34m\u001b[0m\u001b[0m\n\u001b[1;32m      6\u001b[0m \u001b[0;31m#img_rot= cv2.rotate(X_train[1], cv2.ROTATE_90_CLOCKWISE)\u001b[0m\u001b[0;34m\u001b[0m\u001b[0;34m\u001b[0m\u001b[0;34m\u001b[0m\u001b[0m\n",
      "\u001b[0;32m~/opt/miniconda3/envs/LeNet_TrafficSignsClassifyer/lib/python3.6/site-packages/PIL/Image.py\u001b[0m in \u001b[0;36mopen\u001b[0;34m(fp, mode)\u001b[0m\n\u001b[1;32m   2882\u001b[0m         \u001b[0mfp\u001b[0m\u001b[0;34m.\u001b[0m\u001b[0mseek\u001b[0m\u001b[0;34m(\u001b[0m\u001b[0;36m0\u001b[0m\u001b[0;34m)\u001b[0m\u001b[0;34m\u001b[0m\u001b[0;34m\u001b[0m\u001b[0m\n\u001b[1;32m   2883\u001b[0m     \u001b[0;32mexcept\u001b[0m \u001b[0;34m(\u001b[0m\u001b[0mAttributeError\u001b[0m\u001b[0;34m,\u001b[0m \u001b[0mio\u001b[0m\u001b[0;34m.\u001b[0m\u001b[0mUnsupportedOperation\u001b[0m\u001b[0;34m)\u001b[0m\u001b[0;34m:\u001b[0m\u001b[0;34m\u001b[0m\u001b[0;34m\u001b[0m\u001b[0m\n\u001b[0;32m-> 2884\u001b[0;31m         \u001b[0mfp\u001b[0m \u001b[0;34m=\u001b[0m \u001b[0mio\u001b[0m\u001b[0;34m.\u001b[0m\u001b[0mBytesIO\u001b[0m\u001b[0;34m(\u001b[0m\u001b[0mfp\u001b[0m\u001b[0;34m.\u001b[0m\u001b[0mread\u001b[0m\u001b[0;34m(\u001b[0m\u001b[0;34m)\u001b[0m\u001b[0;34m)\u001b[0m\u001b[0;34m\u001b[0m\u001b[0;34m\u001b[0m\u001b[0m\n\u001b[0m\u001b[1;32m   2885\u001b[0m         \u001b[0mexclusive_fp\u001b[0m \u001b[0;34m=\u001b[0m \u001b[0;32mTrue\u001b[0m\u001b[0;34m\u001b[0m\u001b[0;34m\u001b[0m\u001b[0m\n\u001b[1;32m   2886\u001b[0m \u001b[0;34m\u001b[0m\u001b[0m\n",
      "\u001b[0;31mAttributeError\u001b[0m: 'numpy.ndarray' object has no attribute 'read'"
     ]
    }
   ],
   "source": [
    "from PIL import Image\n",
    "\n",
    "# Rotate eaxample image\n",
    "img     = Image.open(X_train[1])\n",
    "img_rot = img.rotate(25)\n",
    "#img_rot= cv2.rotate(X_train[1], cv2.ROTATE_90_CLOCKWISE)\n",
    "img_rot.show()\n",
    "\n",
    "fig, ax = plt.subplots(1,2)\n",
    "ax1.imshow(X_train[1])\n",
    "ax2.imshow(img_rot)\n",
    "\n",
    "#for i in range(len(X_train)):\n",
    "#    img     = Image.open(X_train[i])\n",
    "#    img_rot = img.rotate(25)\n",
    "#    X_train.append(img_rot)\n",
    "#    y_train.append(y_train[i])\n",
    "    "
   ]
  },
  {
   "cell_type": "markdown",
   "metadata": {},
   "source": [
    "----\n",
    "\n",
    "## Step 2: Design and Test a Model Architecture\n",
    "\n",
    "Design and implement a deep learning model that learns to recognize traffic signs. Train and test your model on the [German Traffic Sign Dataset](http://benchmark.ini.rub.de/?section=gtsrb&subsection=dataset).\n",
    "\n",
    "The LeNet-5 implementation shown in the [classroom](https://classroom.udacity.com/nanodegrees/nd013/parts/fbf77062-5703-404e-b60c-95b78b2f3f9e/modules/6df7ae49-c61c-4bb2-a23e-6527e69209ec/lessons/601ae704-1035-4287-8b11-e2c2716217ad/concepts/d4aca031-508f-4e0b-b493-e7b706120f81) at the end of the CNN lesson is a solid starting point. You'll have to change the number of classes and possibly the preprocessing, but aside from that it's plug and play! \n",
    "\n",
    "With the LeNet-5 solution from the lecture, you should expect a validation set accuracy of about 0.89. To meet specifications, the validation set accuracy will need to be at least 0.93. It is possible to get an even higher accuracy, but 0.93 is the minimum for a successful project submission. \n",
    "\n",
    "There are various aspects to consider when thinking about this problem:\n",
    "\n",
    "- Neural network architecture (is the network over or underfitting?)\n",
    "- Play around preprocessing techniques (normalization, rgb to grayscale, etc)\n",
    "- Number of examples per label (some have more than others).\n",
    "- Generate fake data.\n",
    "\n",
    "Here is an example of a [published baseline model on this problem](http://yann.lecun.com/exdb/publis/pdf/sermanet-ijcnn-11.pdf). It's not required to be familiar with the approach used in the paper but, it's good practice to try to read papers like these."
   ]
  },
  {
   "cell_type": "markdown",
   "metadata": {},
   "source": [
    "### Pre-process the Data Set (normalization, grayscale, etc.)"
   ]
  },
  {
   "cell_type": "markdown",
   "metadata": {},
   "source": [
    "Minimally, the image data should be normalized so that the data has mean zero and equal variance. For image data, `(pixel - 128)/ 128` is a quick way to approximately normalize the data and can be used in this project. \n",
    "\n",
    "Other pre-processing steps are optional. You can try different techniques to see if it improves performance. \n",
    "\n",
    "Use the code cell (or multiple code cells, if necessary) to implement the first step of your project."
   ]
  },
  {
   "cell_type": "code",
   "execution_count": 7,
   "metadata": {},
   "outputs": [],
   "source": [
    "# from sklearn.utils import shuffle\n",
    "# using this, because the sklearn.util import shuffle throw errors with the current installed packets\n",
    "from sklearn.utils import shuffle\n",
    "from skimage.color import rgb2gray\n",
    "import cv2\n",
    "\n",
    "# shuffle the data\n",
    "\n",
    "X_train, y_train = shuffle(X_train, y_train)\n",
    "X_valid, y_valid = shuffle(X_valid, y_valid)\n",
    "#print(\"Image Shape: {}\".format(X_train[0].shape))\n",
    "#print(\"Image Shape: {}\".format(X_train[1].shape))\n",
    "#print(\"Image Shape: {}\".format(X_train[2].shape))\n",
    "#print(\"Image Shape: {}\".format(X_train[3].shape))\n",
    "# grayscale and normalization\n",
    "\n",
    "for i in range(len(X_train)):\n",
    "    #print(\"Image Shape: {}\".format(X_train[i].shape))\n",
    "    #gray = cv2.cvtColor(X_train[i], cv2.COLOR_BGR2GRAY)\n",
    "    #print(\"Image Shapeg reay: {}\".format(X_train[i].shape))\n",
    "    X_train[i] = cv2.normalize(X_train[i],None,0,128,cv2.NORM_MINMAX) #normalizeFunction istheproble\n",
    "    #print(\"Image Shape: {}\".format(X_train.shape))\n",
    "    \n",
    "for i in range(len(X_valid)):\n",
    "    #print(\"Image Shape: {}\".format(X_train[i].shape))\n",
    "    #gray = cv2.cvtColor(X_train[i], cv2.COLOR_BGR2GRAY)\n",
    "    #print(\"Image Shapeg reay: {}\".format(X_train[i].shape))\n",
    "    X_valid[i] = cv2.normalize(X_valid[i],None,0,128,cv2.NORM_MINMAX) #normalizeFunction istheproble\n",
    "    #print(\"Image Shape: {}\".format(X_train.shape))\n",
    "    \n",
    "#X_train, y_train = shuffle(X_train, y_train)"
   ]
  },
  {
   "cell_type": "markdown",
   "metadata": {},
   "source": []
  },
  {
   "cell_type": "markdown",
   "metadata": {},
   "source": [
    "### Model Architecture\n",
    "---\n",
    "#### Setup TensorFlow\n",
    "The `EPOCH` and `BATCH_SIZE` values affect the training speed and model accuracy.\n",
    "\n",
    "You do not need to modify this section."
   ]
  },
  {
   "cell_type": "code",
   "execution_count": 8,
   "metadata": {},
   "outputs": [
    {
     "name": "stderr",
     "output_type": "stream",
     "text": [
      "/Users/DanielD/opt/miniconda3/envs/LeNet_TrafficSignsClassifyer/lib/python3.6/site-packages/tensorflow/python/framework/dtypes.py:458: FutureWarning: Passing (type, 1) or '1type' as a synonym of type is deprecated; in a future version of numpy, it will be understood as (type, (1,)) / '(1,)type'.\n",
      "  _np_qint8 = np.dtype([(\"qint8\", np.int8, 1)])\n",
      "/Users/DanielD/opt/miniconda3/envs/LeNet_TrafficSignsClassifyer/lib/python3.6/site-packages/tensorflow/python/framework/dtypes.py:459: FutureWarning: Passing (type, 1) or '1type' as a synonym of type is deprecated; in a future version of numpy, it will be understood as (type, (1,)) / '(1,)type'.\n",
      "  _np_quint8 = np.dtype([(\"quint8\", np.uint8, 1)])\n",
      "/Users/DanielD/opt/miniconda3/envs/LeNet_TrafficSignsClassifyer/lib/python3.6/site-packages/tensorflow/python/framework/dtypes.py:460: FutureWarning: Passing (type, 1) or '1type' as a synonym of type is deprecated; in a future version of numpy, it will be understood as (type, (1,)) / '(1,)type'.\n",
      "  _np_qint16 = np.dtype([(\"qint16\", np.int16, 1)])\n",
      "/Users/DanielD/opt/miniconda3/envs/LeNet_TrafficSignsClassifyer/lib/python3.6/site-packages/tensorflow/python/framework/dtypes.py:461: FutureWarning: Passing (type, 1) or '1type' as a synonym of type is deprecated; in a future version of numpy, it will be understood as (type, (1,)) / '(1,)type'.\n",
      "  _np_quint16 = np.dtype([(\"quint16\", np.uint16, 1)])\n",
      "/Users/DanielD/opt/miniconda3/envs/LeNet_TrafficSignsClassifyer/lib/python3.6/site-packages/tensorflow/python/framework/dtypes.py:462: FutureWarning: Passing (type, 1) or '1type' as a synonym of type is deprecated; in a future version of numpy, it will be understood as (type, (1,)) / '(1,)type'.\n",
      "  _np_qint32 = np.dtype([(\"qint32\", np.int32, 1)])\n",
      "/Users/DanielD/opt/miniconda3/envs/LeNet_TrafficSignsClassifyer/lib/python3.6/site-packages/tensorflow/python/framework/dtypes.py:465: FutureWarning: Passing (type, 1) or '1type' as a synonym of type is deprecated; in a future version of numpy, it will be understood as (type, (1,)) / '(1,)type'.\n",
      "  np_resource = np.dtype([(\"resource\", np.ubyte, 1)])\n"
     ]
    }
   ],
   "source": [
    "import tensorflow as tf\n",
    "\n",
    "EPOCHS = 60\n",
    "BATCH_SIZE = 128"
   ]
  },
  {
   "cell_type": "markdown",
   "metadata": {},
   "source": [
    "#### Implement LeNet-5"
   ]
  },
  {
   "cell_type": "code",
   "execution_count": 9,
   "metadata": {},
   "outputs": [],
   "source": [
    "from tensorflow.contrib.layers import flatten\n",
    "\n",
    "def LeNet(x,keep_prob):    \n",
    "    # Arguments used for tf.truncated_normal, randomly defines variables for the weights and biases for each layer\n",
    "    mu = 0\n",
    "    sigma = 0.1\n",
    "    \n",
    "    # Layer 1: Convolutional. Input = 32x32x3. Output = 28x28x6.\n",
    "    # Filter (weights and bias)\n",
    "    input = x\n",
    "    F_W = tf.Variable(tf.truncated_normal((5, 5, 3, 6), mean=mu, stddev=sigma,))\n",
    "    F_b = tf.Variable(tf.zeros(6))\n",
    "    strides = [1, 1, 1, 1]\n",
    "    padding = 'VALID'\n",
    "    con1 = tf.nn.conv2d(input, F_W, strides, padding) + F_b\n",
    "    # Activation.\n",
    "    con1 = tf.nn.relu(con1)\n",
    "    \n",
    "    # Pooling. Input = 28x28x6. Output = 14x14x6.\n",
    "    input = con1\n",
    "    pooling1 = tf.nn.max_pool(input, ksize = [1, 1, 1, 1], strides = [1, 2, 2, 1], padding = 'VALID')\n",
    "    \n",
    "    # Layer 2: Convolutional. Output = 10x10x16.\n",
    "    input = pooling1\n",
    "    F_W = tf.Variable(tf.truncated_normal((5, 5, 6, 16), mean=mu, stddev=sigma,))\n",
    "    F_b = tf.Variable(tf.zeros(16))\n",
    "    con2 = tf.nn.conv2d(input, F_W, strides = [1, 1, 1, 1], padding = 'VALID') + F_b\n",
    "    # Activation.\n",
    "    con2 = tf.nn.relu(con2)\n",
    "    \n",
    "    # Conv 1x1  Convolutional. Input = 10x10x16. Output = 10x10x32.\n",
    "    input = con2\n",
    "    F_W = tf.Variable(tf.truncated_normal((2, 2, 16, 32), mean=mu, stddev=sigma,))\n",
    "    F_b = tf.Variable(tf.zeros(32))\n",
    "    strides = [1, 1, 1, 1]\n",
    "    padding = 'VALID'\n",
    "    con1x1 = tf.nn.conv2d(input, F_W, strides, padding) + F_b\n",
    "    # Activation.\n",
    "    con1x1 = tf.nn.relu(con1x1)\n",
    "    \n",
    "    # Pooling. Input = 10x10x32. Output = 5x5x32.\n",
    "    input = con1x1\n",
    "    pooling2 = tf.nn.max_pool(input, ksize = [1, 1, 1, 1], strides = [1, 2, 2, 1], padding = 'VALID')\n",
    "    \n",
    "    # Flatten. Input = 5x5x32. Output = 800.\n",
    "    fc0   = flatten(pooling2)\n",
    "    \n",
    "    # Layer 3: Fully Connected. Input = 800. Output = 400.\n",
    "    input = fc0\n",
    "    F_W = tf.Variable(tf.truncated_normal((800, 400), mean=mu, stddev=sigma,))\n",
    "    F_b = tf.Variable(tf.zeros(400))\n",
    "    fc3 = tf.matmul(input, F_W) + F_b \n",
    "    # Activation.\n",
    "    fc3 = tf.nn.relu(fc3)\n",
    "    fc3 = tf.nn.dropout(fc3, keep_prob)\n",
    "    \n",
    "    # Layer 4: Fully Connected. Input = 400. Output = 84.\n",
    "    input = fc3\n",
    "    F_W = tf.Variable(tf.truncated_normal((400, 84), mean=mu, stddev=sigma,))\n",
    "    F_b = tf.Variable(tf.zeros(84))\n",
    "    fc4 = tf.matmul(input, F_W) + F_b \n",
    "    # Activation.\n",
    "    fc4 = tf.nn.relu(fc4)\n",
    "    fc4 = tf.nn.dropout(fc4, keep_prob)\n",
    "    \n",
    "    # Layer 5: Fully Connected. Input = 84. Output = 43.\n",
    "    input = fc4\n",
    "    F_W = tf.Variable(tf.truncated_normal((84, 43), mean=mu, stddev=sigma,))\n",
    "    F_b = tf.Variable(tf.zeros(43))\n",
    "    logits = tf.matmul(input, F_W) + F_b \n",
    "     \n",
    "    return logits"
   ]
  },
  {
   "cell_type": "markdown",
   "metadata": {},
   "source": [
    "### Train, Validate and Test the Model"
   ]
  },
  {
   "cell_type": "markdown",
   "metadata": {},
   "source": [
    "A validation set can be used to assess how well the model is performing. A low accuracy on the training and validation\n",
    "sets imply underfitting. A high accuracy on the training set but low accuracy on the validation set implies overfitting."
   ]
  },
  {
   "cell_type": "code",
   "execution_count": 10,
   "metadata": {},
   "outputs": [],
   "source": [
    "### Train your model here.\n",
    "### Calculate and report the accuracy on the training and validation set.\n",
    "### Once a final model architecture is selected, \n",
    "### the accuracy on the test set should be calculated and reported as well.\n",
    "### Feel free to use as many code cells as needed."
   ]
  },
  {
   "cell_type": "markdown",
   "metadata": {},
   "source": [
    "#### Features and Labels\n",
    "`x` is a placeholder for a batch of input images.\n",
    "`y` is a placeholder for a batch of output labels."
   ]
  },
  {
   "cell_type": "code",
   "execution_count": 11,
   "metadata": {},
   "outputs": [],
   "source": [
    "x = tf.placeholder(tf.float32, (None, 32, 32, 3))\n",
    "y = tf.placeholder(tf.int32, (None))\n",
    "one_hot_y = tf.one_hot(y, 43)"
   ]
  },
  {
   "cell_type": "markdown",
   "metadata": {},
   "source": [
    "#### Training Pipeline"
   ]
  },
  {
   "cell_type": "code",
   "execution_count": 12,
   "metadata": {},
   "outputs": [],
   "source": [
    "rate = 0.0005     # Learning rate 0.0005\n",
    "keep_prob = 0.7   # Dropout rate (%of keeping) 0.5\n",
    "\n",
    "logits = LeNet(x,keep_prob)\n",
    "cross_entropy = tf.nn.softmax_cross_entropy_with_logits(labels=one_hot_y, logits=logits)\n",
    "loss_operation = tf.reduce_mean(cross_entropy)\n",
    "\n",
    "optimizer = tf.train.AdamOptimizer(learning_rate = rate)\n",
    "training_operation = optimizer.minimize(loss_operation)"
   ]
  },
  {
   "cell_type": "markdown",
   "metadata": {},
   "source": [
    "#### Model Evaluation"
   ]
  },
  {
   "cell_type": "code",
   "execution_count": 13,
   "metadata": {},
   "outputs": [],
   "source": [
    "correct_prediction = tf.equal(tf.argmax(logits, 1), tf.argmax(one_hot_y, 1))\n",
    "accuracy_operation = tf.reduce_mean(tf.cast(correct_prediction, tf.float32))\n",
    "\n",
    "saver = tf.train.Saver()\n",
    "\n",
    "def evaluate(X_data, y_data):\n",
    "    num_examples = len(X_data)\n",
    "    total_accuracy = 0\n",
    "    conf_matrix = np.zeros((n_classes, n_classes))\n",
    "    sess = tf.get_default_session()\n",
    "    for offset in range(0, num_examples, BATCH_SIZE):\n",
    "        batch_x, batch_y = X_data[offset:offset+BATCH_SIZE], y_data[offset:offset+BATCH_SIZE]\n",
    "        accuracy = sess.run(accuracy_operation, feed_dict={x: batch_x, y: batch_y})\n",
    "        total_accuracy += (accuracy * len(batch_x))\n",
    "        \n",
    "    return total_accuracy / num_examples"
   ]
  },
  {
   "cell_type": "markdown",
   "metadata": {},
   "source": [
    "#### Train the Model"
   ]
  },
  {
   "cell_type": "code",
   "execution_count": 14,
   "metadata": {},
   "outputs": [
    {
     "name": "stdout",
     "output_type": "stream",
     "text": [
      "Training...\n",
      "\n",
      "EPOCH 1 ...\n",
      "Training Accuracy = 0.447\n",
      "Validation Accuracy = 0.400\n",
      "\n",
      "EPOCH 2 ...\n",
      "Training Accuracy = 0.704\n",
      "Validation Accuracy = 0.641\n",
      "\n",
      "EPOCH 3 ...\n",
      "Training Accuracy = 0.803\n",
      "Validation Accuracy = 0.724\n",
      "\n",
      "EPOCH 4 ...\n",
      "Training Accuracy = 0.854\n",
      "Validation Accuracy = 0.774\n",
      "\n",
      "EPOCH 5 ...\n",
      "Training Accuracy = 0.888\n",
      "Validation Accuracy = 0.793\n",
      "\n",
      "EPOCH 6 ...\n",
      "Training Accuracy = 0.912\n",
      "Validation Accuracy = 0.821\n",
      "\n",
      "EPOCH 7 ...\n",
      "Training Accuracy = 0.928\n",
      "Validation Accuracy = 0.834\n",
      "\n",
      "EPOCH 8 ...\n",
      "Training Accuracy = 0.937\n",
      "Validation Accuracy = 0.848\n",
      "\n",
      "EPOCH 9 ...\n",
      "Training Accuracy = 0.945\n",
      "Validation Accuracy = 0.854\n",
      "\n",
      "EPOCH 10 ...\n",
      "Training Accuracy = 0.954\n",
      "Validation Accuracy = 0.862\n",
      "\n",
      "EPOCH 11 ...\n",
      "Training Accuracy = 0.959\n",
      "Validation Accuracy = 0.863\n",
      "\n",
      "EPOCH 12 ...\n",
      "Training Accuracy = 0.964\n",
      "Validation Accuracy = 0.867\n",
      "\n",
      "EPOCH 13 ...\n",
      "Training Accuracy = 0.968\n",
      "Validation Accuracy = 0.876\n",
      "\n",
      "EPOCH 14 ...\n",
      "Training Accuracy = 0.970\n",
      "Validation Accuracy = 0.874\n",
      "\n",
      "EPOCH 15 ...\n",
      "Training Accuracy = 0.970\n",
      "Validation Accuracy = 0.883\n",
      "\n",
      "EPOCH 16 ...\n",
      "Training Accuracy = 0.975\n",
      "Validation Accuracy = 0.881\n",
      "\n",
      "EPOCH 17 ...\n",
      "Training Accuracy = 0.977\n",
      "Validation Accuracy = 0.882\n",
      "\n",
      "EPOCH 18 ...\n",
      "Training Accuracy = 0.980\n",
      "Validation Accuracy = 0.891\n",
      "\n",
      "EPOCH 19 ...\n",
      "Training Accuracy = 0.980\n",
      "Validation Accuracy = 0.881\n",
      "\n",
      "EPOCH 20 ...\n",
      "Training Accuracy = 0.985\n",
      "Validation Accuracy = 0.891\n",
      "\n",
      "EPOCH 21 ...\n",
      "Training Accuracy = 0.980\n",
      "Validation Accuracy = 0.885\n",
      "\n",
      "EPOCH 22 ...\n",
      "Training Accuracy = 0.985\n",
      "Validation Accuracy = 0.893\n",
      "\n",
      "EPOCH 23 ...\n",
      "Training Accuracy = 0.986\n",
      "Validation Accuracy = 0.893\n",
      "\n",
      "EPOCH 24 ...\n",
      "Training Accuracy = 0.988\n",
      "Validation Accuracy = 0.894\n",
      "\n",
      "EPOCH 25 ...\n",
      "Training Accuracy = 0.989\n",
      "Validation Accuracy = 0.898\n",
      "\n",
      "EPOCH 26 ...\n",
      "Training Accuracy = 0.987\n",
      "Validation Accuracy = 0.898\n",
      "\n",
      "EPOCH 27 ...\n",
      "Training Accuracy = 0.988\n",
      "Validation Accuracy = 0.894\n",
      "\n",
      "EPOCH 28 ...\n",
      "Training Accuracy = 0.990\n",
      "Validation Accuracy = 0.901\n",
      "\n",
      "EPOCH 29 ...\n",
      "Training Accuracy = 0.988\n",
      "Validation Accuracy = 0.895\n",
      "\n",
      "EPOCH 30 ...\n",
      "Training Accuracy = 0.990\n",
      "Validation Accuracy = 0.902\n",
      "\n",
      "EPOCH 31 ...\n",
      "Training Accuracy = 0.990\n",
      "Validation Accuracy = 0.910\n",
      "\n",
      "EPOCH 32 ...\n",
      "Training Accuracy = 0.990\n",
      "Validation Accuracy = 0.896\n",
      "\n",
      "EPOCH 33 ...\n",
      "Training Accuracy = 0.990\n",
      "Validation Accuracy = 0.900\n",
      "\n",
      "EPOCH 34 ...\n",
      "Training Accuracy = 0.993\n",
      "Validation Accuracy = 0.904\n",
      "\n",
      "EPOCH 35 ...\n",
      "Training Accuracy = 0.991\n",
      "Validation Accuracy = 0.906\n",
      "\n",
      "EPOCH 36 ...\n",
      "Training Accuracy = 0.992\n",
      "Validation Accuracy = 0.907\n",
      "\n",
      "EPOCH 37 ...\n",
      "Training Accuracy = 0.992\n",
      "Validation Accuracy = 0.908\n",
      "\n",
      "EPOCH 38 ...\n",
      "Training Accuracy = 0.992\n",
      "Validation Accuracy = 0.912\n",
      "\n",
      "EPOCH 39 ...\n",
      "Training Accuracy = 0.989\n",
      "Validation Accuracy = 0.901\n",
      "\n",
      "EPOCH 40 ...\n",
      "Training Accuracy = 0.992\n",
      "Validation Accuracy = 0.907\n",
      "\n",
      "EPOCH 41 ...\n",
      "Training Accuracy = 0.995\n",
      "Validation Accuracy = 0.911\n",
      "\n",
      "EPOCH 42 ...\n",
      "Training Accuracy = 0.993\n",
      "Validation Accuracy = 0.907\n",
      "\n",
      "EPOCH 43 ...\n",
      "Training Accuracy = 0.990\n",
      "Validation Accuracy = 0.905\n",
      "\n",
      "EPOCH 44 ...\n",
      "Training Accuracy = 0.995\n",
      "Validation Accuracy = 0.912\n",
      "\n",
      "EPOCH 45 ...\n",
      "Training Accuracy = 0.993\n",
      "Validation Accuracy = 0.912\n",
      "\n",
      "EPOCH 46 ...\n",
      "Training Accuracy = 0.993\n",
      "Validation Accuracy = 0.914\n",
      "\n",
      "EPOCH 47 ...\n",
      "Training Accuracy = 0.991\n",
      "Validation Accuracy = 0.907\n",
      "\n",
      "EPOCH 48 ...\n",
      "Training Accuracy = 0.995\n",
      "Validation Accuracy = 0.915\n",
      "\n",
      "EPOCH 49 ...\n",
      "Training Accuracy = 0.994\n",
      "Validation Accuracy = 0.919\n",
      "\n",
      "EPOCH 50 ...\n",
      "Training Accuracy = 0.995\n",
      "Validation Accuracy = 0.912\n",
      "\n",
      "EPOCH 51 ...\n",
      "Training Accuracy = 0.996\n",
      "Validation Accuracy = 0.916\n",
      "\n",
      "EPOCH 52 ...\n",
      "Training Accuracy = 0.996\n",
      "Validation Accuracy = 0.920\n",
      "\n",
      "EPOCH 53 ...\n",
      "Training Accuracy = 0.994\n",
      "Validation Accuracy = 0.910\n",
      "\n",
      "EPOCH 54 ...\n",
      "Training Accuracy = 0.995\n",
      "Validation Accuracy = 0.907\n",
      "\n",
      "EPOCH 55 ...\n",
      "Training Accuracy = 0.996\n",
      "Validation Accuracy = 0.915\n",
      "\n",
      "EPOCH 56 ...\n",
      "Training Accuracy = 0.995\n",
      "Validation Accuracy = 0.905\n",
      "\n",
      "EPOCH 57 ...\n",
      "Training Accuracy = 0.996\n",
      "Validation Accuracy = 0.917\n",
      "\n",
      "EPOCH 58 ...\n",
      "Training Accuracy = 0.996\n",
      "Validation Accuracy = 0.922\n",
      "\n",
      "EPOCH 59 ...\n",
      "Training Accuracy = 0.995\n",
      "Validation Accuracy = 0.918\n",
      "\n",
      "EPOCH 60 ...\n",
      "Training Accuracy = 0.996\n",
      "Validation Accuracy = 0.918\n",
      "\n",
      "Model saved\n",
      "Done!\n"
     ]
    }
   ],
   "source": [
    " with tf.Session() as sess:\n",
    "    sess.run(tf.global_variables_initializer())\n",
    "    num_examples = len(X_train)\n",
    "    \n",
    "    print(\"Training...\")\n",
    "    print()\n",
    "    \n",
    "    epochs_x = []                # for plotting the result\n",
    "    trainging_curve = []\n",
    "    validation_curve = []\n",
    "    for i in range(EPOCHS):\n",
    "        epochs_x.append(i)\n",
    "        for offset in range(0, num_examples, BATCH_SIZE):\n",
    "            end = offset + BATCH_SIZE\n",
    "            batch_x, batch_y = X_train[offset:end], y_train[offset:end]\n",
    "            sess.run(training_operation, feed_dict={x: batch_x, y: batch_y})\n",
    "        \n",
    "        training_accuracy = evaluate(X_train, y_train)\n",
    "        validation_accuracy = evaluate(X_valid, y_valid)\n",
    "        \n",
    "        trainging_curve.append((1-training_accuracy))\n",
    "        validation_curve.append((1-validation_accuracy))\n",
    "        \n",
    "        print(\"EPOCH {} ...\".format(i+1))\n",
    "        print(\"Training Accuracy = {:.3f}\".format(training_accuracy))\n",
    "        print(\"Validation Accuracy = {:.3f}\".format(validation_accuracy))\n",
    "        print()\n",
    "        \n",
    "    saver.save(sess, './lenet')\n",
    "    print(\"Model saved\")\n",
    "    print('Done!')"
   ]
  },
  {
   "cell_type": "code",
   "execution_count": 15,
   "metadata": {},
   "outputs": [
    {
     "data": {
      "image/png": "[encoded data removed]",
      "text/plain": [
       "<Figure size 432x288 with 1 Axes>"
      ]
     },
     "metadata": {
      "needs_background": "light"
     },
     "output_type": "display_data"
    }
   ],
   "source": [
    "# Show the learn courve\n",
    "\n",
    "plt.plot(epochs_x, trainging_curve,'r',epochs_x,validation_curve, 'b')\n",
    "plt.xlabel('Epochs')\n",
    "plt.ylabel('Error')\n",
    "ax.set_title('Learning Curve')\n",
    "plt.savefig('./examples/learning_curve_learning_'+str(rate)+'keep_prob'+str(keep_prob)+'.jpg', dpi=300)\n",
    "plt.show()"
   ]
  },
  {
   "cell_type": "markdown",
   "metadata": {},
   "source": [
    "---\n",
    "\n",
    "## Step 3: Test a Model on New Images\n",
    "\n",
    "To give yourself more insight into how your model is working, download at least five pictures of German traffic signs from the web and use your model to predict the traffic sign type.\n",
    "\n",
    "You may find `signnames.csv` useful as it contains mappings from the class id (integer) to the actual sign name."
   ]
  },
  {
   "cell_type": "markdown",
   "metadata": {},
   "source": [
    "### Load and Output the Images"
   ]
  },
  {
   "cell_type": "code",
   "execution_count": 16,
   "metadata": {},
   "outputs": [
    {
     "data": {
      "image/png": "[encoded data removed]",
      "text/plain": [
       "<Figure size 1440x2304 with 5 Axes>"
      ]
     },
     "metadata": {
      "needs_background": "light"
     },
     "output_type": "display_data"
    }
   ],
   "source": [
    "### Load the images and plot them here.\n",
    "### Feel free to use as many code cells as needed.\n",
    "import os\n",
    "import matplotlib.image as mpimg\n",
    "import glob\n",
    "from PIL import Image\n",
    "\n",
    "#create output directories if not existing\n",
    "for path in [\"add_trafic_signs_resized/\"]:\n",
    "    if not os.path.exists(path):\n",
    "        os.makedirs(path)\n",
    "\n",
    "add_file_list = [f for f in glob.glob(\"add_trafic_signs/\"+'*.jpg')] #Loading the images\n",
    "add_imag_list = []\n",
    "add_imag_list_resised = []\n",
    "add_signal_labels=[14,13,12,7,17]\n",
    "\n",
    "for f in add_file_list:\n",
    "    add_imag_list.append(Image.open(f))\n",
    "\n",
    "for i in range(len(add_imag_list)):\n",
    "    add_imag_list_resised.append(add_imag_list[i].resize((32,32),resample=1, box=None, reducing_gap=3))\n",
    "    \n",
    "add_imag_list_resised_converted = [np.asarray(img) for img in add_imag_list_resised] # Converting the images to np.array\n",
    "add_imag_list_resised_converted = np.array(add_imag_list_resised_converted) # Converting in np.array so tensorflow can handle the images\n",
    "\n",
    "#Ploting the resided img\n",
    "f, (ax1, ax2, ax3,ax4,ax5) = plt.subplots(1, 5, figsize=(20, 32))\n",
    "ax1.imshow(add_imag_list_resised[0])\n",
    "ax1.axis('ON')\n",
    "ax1.set_title(signnames.SignName[add_signal_labels[0]])\n",
    "ax2.imshow(add_imag_list_resised_converted[1])\n",
    "ax2.axis('ON')\n",
    "ax2.set_title(signnames.SignName[add_signal_labels[1]])\n",
    "ax3.imshow(add_imag_list_resised_converted[2])\n",
    "ax3.axis('ON')\n",
    "ax3.set_title(signnames.SignName[add_signal_labels[2]])\n",
    "ax4.imshow(add_imag_list_resised_converted[3])\n",
    "ax4.axis('ON')\n",
    "ax4.set_title(signnames.SignName[add_signal_labels[3]])\n",
    "ax5.imshow(add_imag_list_resised_converted[4])\n",
    "ax5.axis('ON')\n",
    "ax5.set_title(signnames.SignName[add_signal_labels[4]])\n",
    "plt.show()\n",
    "#plt.savefig('./examples/Additional_Images.jpg', dpi=300)"
   ]
  },
  {
   "cell_type": "markdown",
   "metadata": {},
   "source": [
    "### Predict the Sign Type for Each Image"
   ]
  },
  {
   "cell_type": "code",
   "execution_count": 17,
   "metadata": {},
   "outputs": [
    {
     "name": "stdout",
     "output_type": "stream",
     "text": [
      "INFO:tensorflow:Restoring parameters from ./lenet\n",
      "Web test-set accuracy = 0.600\n"
     ]
    }
   ],
   "source": [
    "### Run the predictions here and use the model to output the prediction for each image.\n",
    "### Make sure to pre-process the images with the same pre-processing pipeline used earlier.\n",
    "### Feel free to use as many code cells as needed.\n",
    "    \n",
    "with tf.Session() as sess:\n",
    "    saver.restore(sess, \"./lenet\")\n",
    "    \n",
    "    web_accuracy = evaluate(add_imag_list_resised_converted, add_signal_labels)\n",
    "    print(\"Web test-set accuracy = {:.3f}\".format(web_accuracy))\n",
    "    "
   ]
  },
  {
   "cell_type": "markdown",
   "metadata": {},
   "source": [
    "### Analyze Performance"
   ]
  },
  {
   "cell_type": "code",
   "execution_count": 18,
   "metadata": {},
   "outputs": [],
   "source": [
    "### Calculate the accuracy for these 5 new images. \n",
    "### For example, if the model predicted 1 out of 5 signs correctly, it's 80% accurate on these new images."
   ]
  },
  {
   "cell_type": "markdown",
   "metadata": {},
   "source": [
    "### Output Top 5 Softmax Probabilities For Each Image Found on the Web"
   ]
  },
  {
   "cell_type": "markdown",
   "metadata": {},
   "source": [
    "For each of the new images, print out the model's softmax probabilities to show the **certainty** of the model's predictions (limit the output to the top 5 probabilities for each image). [`tf.nn.top_k`](https://www.tensorflow.org/versions/r0.12/api_docs/python/nn.html#top_k) could prove helpful here. \n",
    "\n",
    "The example below demonstrates how tf.nn.top_k can be used to find the top k predictions for each image.\n",
    "\n",
    "`tf.nn.top_k` will return the values and indices (class ids) of the top k predictions. So if k=3, for each sign, it'll return the 3 largest probabilities (out of a possible 43) and the correspoding class ids.\n",
    "\n",
    "Take this numpy array as an example. The values in the array represent predictions. The array contains softmax probabilities for five candidate images with six possible classes. `tf.nn.top_k` is used to choose the three classes with the highest probability:\n",
    "\n",
    "```\n",
    "# (5, 6) array\n",
    "a = np.array([[ 0.24879643,  0.07032244,  0.12641572,  0.34763842,  0.07893497,\n",
    "         0.12789202],\n",
    "       [ 0.28086119,  0.27569815,  0.08594638,  0.0178669 ,  0.18063401,\n",
    "         0.15899337],\n",
    "       [ 0.26076848,  0.23664738,  0.08020603,  0.07001922,  0.1134371 ,\n",
    "         0.23892179],\n",
    "       [ 0.11943333,  0.29198961,  0.02605103,  0.26234032,  0.1351348 ,\n",
    "         0.16505091],\n",
    "       [ 0.09561176,  0.34396535,  0.0643941 ,  0.16240774,  0.24206137,\n",
    "         0.09155967]])\n",
    "```\n",
    "\n",
    "Running it through `sess.run(tf.nn.top_k(tf.constant(a), k=3))` produces:\n",
    "\n",
    "```\n",
    "TopKV2(values=array([[ 0.34763842,  0.24879643,  0.12789202],\n",
    "       [ 0.28086119,  0.27569815,  0.18063401],\n",
    "       [ 0.26076848,  0.23892179,  0.23664738],\n",
    "       [ 0.29198961,  0.26234032,  0.16505091],\n",
    "       [ 0.34396535,  0.24206137,  0.16240774]]), indices=array([[3, 0, 5],\n",
    "       [0, 1, 4],\n",
    "       [0, 5, 1],\n",
    "       [1, 3, 5],\n",
    "       [1, 4, 3]], dtype=int32))\n",
    "```\n",
    "\n",
    "Looking just at the first row we get `[ 0.34763842,  0.24879643,  0.12789202]`, you can confirm these are the 3 largest probabilities in `a`. You'll also notice `[3, 0, 5]` are the corresponding indices."
   ]
  },
  {
   "cell_type": "code",
   "execution_count": 19,
   "metadata": {},
   "outputs": [
    {
     "name": "stdout",
     "output_type": "stream",
     "text": [
      "<class 'tensorflow.python.ops.gen_nn_ops.TopKV2'>\n",
      "INFO:tensorflow:Restoring parameters from ./lenet\n",
      "Model restored.\n",
      "\n",
      " --- Prediction 1 ---\n",
      "0.98283076  Stop\n",
      "0.011142297  Yield\n",
      "0.0058903093  Road work\n",
      "\n",
      " --- Prediction 2 ---\n",
      "1.0  No entry\n",
      "1.1223683e-10  Speed limit (30km/h)\n",
      "8.7089694e-13  Stop\n",
      "\n",
      " --- Prediction 3 ---\n",
      "1.0  Priority road\n",
      "3.0484853e-34  Stop\n",
      "0.0  Speed limit (20km/h)\n",
      "\n",
      " --- Prediction 4 ---\n",
      "0.54250973  Dangerous curve to the right\n",
      "0.45644662  Speed limit (60km/h)\n",
      "0.0006959634  Dangerous curve to the left\n",
      "\n",
      " --- Prediction 5 ---\n",
      "0.9987029  Stop\n",
      "0.0012970731  No entry\n",
      "0.0  Speed limit (20km/h)\n"
     ]
    }
   ],
   "source": [
    "### Print out the top five softmax probabilities for the predictions on the German traffic sign images found on the web. \n",
    "### Feel free to use as many code cells as needed.\n",
    "\n",
    "top_classes = tf.nn.top_k(tf.nn.softmax(logits), k=3)\n",
    "keep_prob = 1.0   # Dropout rate (% of keeping)\n",
    "\n",
    "print(type(top_classes))\n",
    "import pandas\n",
    "\n",
    "with tf.Session() as sess:\n",
    "    saver.restore(sess, './lenet')\n",
    "    print(\"Model restored.\")\n",
    "    top_classes_out = sess.run(top_classes, feed_dict={x: add_imag_list_resised_converted, y: add_signal_labels})\n",
    "    \n",
    "    for i in range(len(top_classes_out[0])):      \n",
    "        print('\\r\\n --- Prediction ' +str(i+1) + ' '+'---')\n",
    "        for j in range(len(top_classes_out[0][i])):\n",
    "            pre = top_classes_out[0][i][j]\n",
    "            lab = top_classes_out[1][i][j]\n",
    "            print ( str(pre) + '  ' + str(signnames.SignName[lab]))\n",
    "            "
   ]
  },
  {
   "cell_type": "markdown",
   "metadata": {},
   "source": [
    "### Project Writeup\n",
    "\n",
    "Once you have completed the code implementation, document your results in a project writeup using this [template](https://github.com/udacity/CarND-Traffic-Sign-Classifier-Project/blob/master/writeup_template.md) as a guide. The writeup can be in a markdown or pdf file. "
   ]
  },
  {
   "cell_type": "markdown",
   "metadata": {},
   "source": [
    "> **Note**: Once you have completed all of the code implementations and successfully answered each question above, you may finalize your work by exporting the iPython Notebook as an HTML document. You can do this by using the menu above and navigating to  \\n\",\n",
    "    \"**File -> Download as -> HTML (.html)**. Include the finished document along with this notebook as your submission."
   ]
  },
  {
   "cell_type": "markdown",
   "metadata": {},
   "source": [
    "---\n",
    "\n",
    "## Step 4 (Optional): Visualize the Neural Network's State with Test Images\n",
    "\n",
    " This Section is not required to complete but acts as an additional excersise for understaning the output of a neural network's weights. While neural networks can be a great learning device they are often referred to as a black box. We can understand what the weights of a neural network look like better by plotting their feature maps. After successfully training your neural network you can see what it's feature maps look like by plotting the output of the network's weight layers in response to a test stimuli image. From these plotted feature maps, it's possible to see what characteristics of an image the network finds interesting. For a sign, maybe the inner network feature maps react with high activation to the sign's boundary outline or to the contrast in the sign's painted symbol.\n",
    "\n",
    " Provided for you below is the function code that allows you to get the visualization output of any tensorflow weight layer you want. The inputs to the function should be a stimuli image, one used during training or a new one you provided, and then the tensorflow variable name that represents the layer's state during the training process, for instance if you wanted to see what the [LeNet lab's](https://classroom.udacity.com/nanodegrees/nd013/parts/fbf77062-5703-404e-b60c-95b78b2f3f9e/modules/6df7ae49-c61c-4bb2-a23e-6527e69209ec/lessons/601ae704-1035-4287-8b11-e2c2716217ad/concepts/d4aca031-508f-4e0b-b493-e7b706120f81) feature maps looked like for it's second convolutional layer you could enter conv2 as the tf_activation variable.\n",
    "\n",
    "For an example of what feature map outputs look like, check out NVIDIA's results in their paper [End-to-End Deep Learning for Self-Driving Cars](https://devblogs.nvidia.com/parallelforall/deep-learning-self-driving-cars/) in the section Visualization of internal CNN State. NVIDIA was able to show that their network's inner weights had high activations to road boundary lines by comparing feature maps from an image with a clear path to one without. Try experimenting with a similar test to show that your trained network's weights are looking for interesting features, whether it's looking at differences in feature maps from images with or without a sign, or even what feature maps look like in a trained network vs a completely untrained one on the same sign image.\n",
    "\n",
    "<figure>\n",
    " <img src=\"visualize_cnn.png\" width=\"380\" alt=\"Combined Image\" />\n",
    " <figcaption>\n",
    " <p></p> \n",
    " <p style=\"text-align: center;\"> Your output should look something like this (above)</p> \n",
    " </figcaption>\n",
    "</figure>\n",
    " <p></p> \n"
   ]
  },
  {
   "cell_type": "code",
   "execution_count": 20,
   "metadata": {},
   "outputs": [],
   "source": [
    "### Visualize your network's feature maps here.\n",
    "### Feel free to use as many code cells as needed.\n",
    "\n",
    "# image_input: the test image being fed into the network to produce the feature maps\n",
    "# tf_activation: should be a tf variable name used during your training procedure that represents the calculated state of a specific weight layer\n",
    "# activation_min/max: can be used to view the activation contrast in more detail, by default matplot sets min and max to the actual min and max values of the output\n",
    "# plt_num: used to plot out multiple different weight feature map sets on the same block, just extend the plt number for each new feature map entry\n",
    "\n",
    "def outputFeatureMap(image_input, tf_activation, activation_min=-1, activation_max=-1 ,plt_num=1):\n",
    "    # Here make sure to preprocess your image_input in a way your network expects\n",
    "    # with size, normalization, ect if needed\n",
    "    # image_input =\n",
    "    # Note: x should be the same name as your network's tensorflow data placeholder variable\n",
    "    # If you get an error tf_activation is not defined it may be having trouble accessing the variable from inside a function\n",
    "    activation = tf_activation.eval(session=sess,feed_dict={x : image_input})\n",
    "    featuremaps = activation.shape[3]\n",
    "    plt.figure(plt_num, figsize=(15,15))\n",
    "    for featuremap in range(featuremaps):\n",
    "        plt.subplot(6,8, featuremap+1) # sets the number of feature maps to show on each row and column\n",
    "        plt.title('FeatureMap ' + str(featuremap)) # displays the feature map number\n",
    "        if activation_min != -1 & activation_max != -1:\n",
    "            plt.imshow(activation[0,:,:, featuremap], interpolation=\"nearest\", vmin =activation_min, vmax=activation_max, cmap=\"gray\")\n",
    "        elif activation_max != -1:\n",
    "            plt.imshow(activation[0,:,:, featuremap], interpolation=\"nearest\", vmax=activation_max, cmap=\"gray\")\n",
    "        elif activation_min !=-1:\n",
    "            plt.imshow(activation[0,:,:, featuremap], interpolation=\"nearest\", vmin=activation_min, cmap=\"gray\")\n",
    "        else:\n",
    "            plt.imshow(activation[0,:,:, featuremap], interpolation=\"nearest\", cmap=\"gray\")"
   ]
  }
 ],
 "metadata": {
  "anaconda-cloud": {},
  "kernelspec": {
   "display_name": "Python 3",
   "language": "python",
   "name": "python3"
  },
  "language_info": {
   "codemirror_mode": {
    "name": "ipython",
    "version": 3
   },
   "file_extension": ".py",
   "mimetype": "text/x-python",
   "name": "python",
   "nbconvert_exporter": "python",
   "pygments_lexer": "ipython3",
   "version": "3.6.10"
  }
 },
 "nbformat": 4,
 "nbformat_minor": 1
}
